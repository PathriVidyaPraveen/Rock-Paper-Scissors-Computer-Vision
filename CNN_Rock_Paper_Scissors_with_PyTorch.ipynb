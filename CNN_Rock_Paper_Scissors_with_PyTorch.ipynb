{
  "nbformat": 4,
  "nbformat_minor": 0,
  "metadata": {
    "colab": {
      "provenance": [],
      "gpuType": "T4"
    },
    "kernelspec": {
      "name": "python3",
      "display_name": "Python 3"
    },
    "language_info": {
      "name": "python"
    },
    "accelerator": "GPU"
  },
  "cells": [
    {
      "cell_type": "markdown",
      "source": [
        "In this assignment, you will explore Convolutional Neural Networks (CNNs) using PyTorch. You will work with the Rock‑\n",
        "Paper‑Scissors dataset from Kaggle (https://www.kaggle.com/datasets/drgfreeman/rockpaperscissors) and perform\n",
        "a series of tasks that will guide you through data preparation, understanding convolutions, experimenting with pooling\n",
        "methods, and ultimately building and training a complete CNN model.\n",
        "You can run on Google Colab with GPU runtime enabled.\n",
        "For a brief refresher on CNNs, refer to Section 22.3 of Artifical Intelligence: A Modern Approach by Russell and Norvig (the\n",
        "course textbook for Intro to Modern AI from the previous semester)."
      ],
      "metadata": {
        "id": "G5MlGKb9ZGKX"
      }
    },
    {
      "cell_type": "markdown",
      "source": [
        "3.1 Data Preparation\n",
        "1. Write a custom PyTorch Dataset class to load and preprocess the images.\n",
        "2. Split the dataset into training and test sets."
      ],
      "metadata": {
        "id": "U7velX9SZMD-"
      }
    },
    {
      "cell_type": "code",
      "execution_count": 24,
      "metadata": {
        "id": "875fH494_orN",
        "colab": {
          "base_uri": "https://localhost:8080/"
        },
        "outputId": "4a5d06aa-de13-4e30-e969-3f975f9bf889"
      },
      "outputs": [
        {
          "output_type": "stream",
          "name": "stdout",
          "text": [
            "Running on: cuda\n"
          ]
        }
      ],
      "source": [
        "import torch\n",
        "device = \"cuda\" if torch.cuda.is_available() else \"cpu\"\n",
        "print(\"Running on:\", device)\n"
      ]
    },
    {
      "cell_type": "code",
      "source": [
        "!pip install -q kaggle\n",
        "import os\n",
        "import zipfile\n",
        "import torch\n",
        "import torchvision\n",
        "from torchvision import datasets, transforms\n",
        "import matplotlib.pyplot as plt\n",
        "import numpy as np\n",
        "import torch.nn as nn\n",
        "import torch.nn.functional as F\n",
        "from torch.utils.data import DataLoader\n",
        "from torchvision.datasets import ImageFolder\n",
        "from torchvision.transforms import ToTensor\n",
        "from sklearn.model_selection import train_test_split\n"
      ],
      "metadata": {
        "id": "PH71Ve4kZjhB"
      },
      "execution_count": 25,
      "outputs": []
    },
    {
      "cell_type": "code",
      "source": [
        "from google.colab import drive\n",
        "drive.mount('/content/drive')\n"
      ],
      "metadata": {
        "colab": {
          "base_uri": "https://localhost:8080/"
        },
        "id": "kpS7ctZsZ5L5",
        "outputId": "07d543f2-4968-4865-e817-9c78eea91e8a"
      },
      "execution_count": 3,
      "outputs": [
        {
          "output_type": "stream",
          "name": "stdout",
          "text": [
            "Mounted at /content/drive\n"
          ]
        }
      ]
    },
    {
      "cell_type": "code",
      "source": [
        "data_path = \"/content/drive/MyDrive/Rock_Paper_Scissors/rps-cv-images\"\n",
        "transform = transforms.Compose([\n",
        "  transforms.Resize((64,64)),\n",
        "  transforms.ToTensor(),\n",
        "]\n",
        ")\n",
        "\n",
        "dataset = datasets.ImageFolder(root=data_path, transform=transform)\n",
        "\n",
        "from torch.utils.data import random_split\n",
        "\n",
        "train_size = int(0.8*len(dataset))\n",
        "test_size = len(dataset) - train_size\n",
        "train_dataset, test_dataset = random_split(dataset,[train_size,test_size])\n",
        "\n",
        "train_loader = DataLoader(train_dataset, batch_size=32, shuffle=True)\n",
        "test_loader =DataLoader(test_dataset,batch_size=32)\n",
        "\n"
      ],
      "metadata": {
        "id": "-MHclTvBaNJf"
      },
      "execution_count": 26,
      "outputs": []
    },
    {
      "cell_type": "code",
      "source": [
        "from google.colab import drive\n",
        "drive.mount('/content/drive')"
      ],
      "metadata": {
        "colab": {
          "base_uri": "https://localhost:8080/"
        },
        "id": "XG2PCGC09Eam",
        "outputId": "0d5082cb-00b4-455a-f64e-ad9ef6364460"
      },
      "execution_count": 5,
      "outputs": [
        {
          "output_type": "stream",
          "name": "stdout",
          "text": [
            "Drive already mounted at /content/drive; to attempt to forcibly remount, call drive.mount(\"/content/drive\", force_remount=True).\n"
          ]
        }
      ]
    },
    {
      "cell_type": "code",
      "source": [
        "print(\"Classes:\", dataset.classes)\n",
        "\n"
      ],
      "metadata": {
        "colab": {
          "base_uri": "https://localhost:8080/"
        },
        "id": "I3vmW9P-cJ9S",
        "outputId": "d6083587-ddb5-46ee-d462-fe8559343ed3"
      },
      "execution_count": 27,
      "outputs": [
        {
          "output_type": "stream",
          "name": "stdout",
          "text": [
            "Classes: ['paper', 'rock', 'scissors']\n"
          ]
        }
      ]
    },
    {
      "cell_type": "markdown",
      "source": [
        "3.2 Understanding Convolutions\n",
        "1. Build a modular CNN class using PyTorch’s nn.Module.\n",
        "2. Implement one convolutional layer using PyTorch’s nn.Conv2d and verify if the output sizes match the expected\n",
        "dimensions.\n",
        "3. Apply this model to a single image and visualize the outputs (feature maps) with different kernels such as blur,\n",
        "sharpen, and edge detection.\n",
        "4. Experiment by changing kernel size, stride, and padding."
      ],
      "metadata": {
        "id": "5iZml9uwcswQ"
      }
    },
    {
      "cell_type": "code",
      "source": [
        "class SimpleConvNet(nn.Module):\n",
        "  def __init__(self, in_channels=3 , out_channels=1 , kernel_size=3 , stride = 1,padding = 1):\n",
        "    super(SimpleConvNet,self).__init__()\n",
        "    self.conv = nn.Conv2d(in_channels=in_channels,out_channels=out_channels,kernel_size=kernel_size,stride=stride,padding=padding)\n",
        "\n",
        "  def forward(self,x):\n",
        "    return self.conv(x)\n",
        "\n",
        ""
      ],
      "metadata": {
        "id": "i-s7A86ZcuJx"
      },
      "execution_count": 28,
      "outputs": []
    },
    {
      "cell_type": "code",
      "source": [
        "image , label = dataset[0]\n",
        "image = image.unsqueeze(0)\n",
        "print(\"Input size: \",image.shape)\n",
        "\n",
        "model = SimpleConvNet(in_channels=3,out_channels=1,kernel_size=3,stride=1,padding=1)\n",
        "output = model(image)\n",
        "print(\"Output size: \" ,output.shape)\n",
        "\n"
      ],
      "metadata": {
        "colab": {
          "base_uri": "https://localhost:8080/"
        },
        "id": "pwR_DrN79XVD",
        "outputId": "a0846417-c9ba-43b1-d3b3-7df4be4203e5"
      },
      "execution_count": 29,
      "outputs": [
        {
          "output_type": "stream",
          "name": "stdout",
          "text": [
            "Input size:  torch.Size([1, 3, 64, 64])\n",
            "Output size:  torch.Size([1, 1, 64, 64])\n"
          ]
        }
      ]
    },
    {
      "cell_type": "code",
      "source": [
        "import numpy as np\n",
        "\n",
        "# Define custom 3x3 kernels\n",
        "blur_kernel = torch.tensor([[1,1,1],[1,1,1],[1,1,1]], dtype=torch.float32) / 9\n",
        "sharpen_kernel = torch.tensor([[0,-1,0],[-1,5,-1],[0,-1,0]], dtype=torch.float32)\n",
        "edge_kernel = torch.tensor([[-1,-1,-1],[-1,8,-1],[-1,-1,-1]], dtype=torch.float32)\n",
        "\n",
        "# Wrap into Conv2D weights format: [out_channels, in_channels, kernel_size, kernel_size]\n",
        "def create_custom_conv(kernel):\n",
        "    conv = nn.Conv2d(3, 1, kernel_size=3, padding=1, bias=False)\n",
        "    kernel = kernel.view(1, 1, 3, 3).repeat(1, 3, 1, 1)  # Repeat for 3 input channels\n",
        "    conv.weight.data = kernel\n",
        "    return conv\n"
      ],
      "metadata": {
        "id": "qCaFUUPe-DKU"
      },
      "execution_count": 30,
      "outputs": []
    },
    {
      "cell_type": "code",
      "source": [
        "import matplotlib.pyplot as plt\n",
        "\n",
        "def visualize_feature_map(image, conv_layer, title):\n",
        "    with torch.no_grad():\n",
        "        output = conv_layer(image)\n",
        "        plt.imshow(output[0][0].numpy(), cmap='gray')\n",
        "        plt.title(title)\n",
        "        plt.axis('off')\n",
        "        plt.show()\n",
        "\n",
        "# Input image\n",
        "img = image  # shape [1, 3, 64, 64]\n",
        "\n",
        "# Apply and visualize\n",
        "visualize_feature_map(img, create_custom_conv(blur_kernel), \"Blur Filter\")\n",
        "visualize_feature_map(img, create_custom_conv(sharpen_kernel), \"Sharpen Filter\")\n",
        "visualize_feature_map(img, create_custom_conv(edge_kernel), \"Edge Detection\")\n"
      ],
      "metadata": {
        "colab": {
          "base_uri": "https://localhost:8080/",
          "height": 1000
        },
        "id": "yZJyOVHg-GrY",
        "outputId": "eebf6757-8ebb-439c-eb57-3e243c4a3983"
      },
      "execution_count": 31,
      "outputs": [
        {
          "output_type": "display_data",
          "data": {
            "text/plain": [
              "<Figure size 640x480 with 1 Axes>"
            ],
            "image/png": "[encoded data removed]"
          },
          "metadata": {}
        },
        {
          "output_type": "display_data",
          "data": {
            "text/plain": [
              "<Figure size 640x480 with 1 Axes>"
            ],
            "image/png": "[encoded data removed]"
          },
          "metadata": {}
        },
        {
          "output_type": "display_data",
          "data": {
            "text/plain": [
              "<Figure size 640x480 with 1 Axes>"
            ],
            "image/png": "[encoded data removed]"
          },
          "metadata": {}
        }
      ]
    },
    {
      "cell_type": "code",
      "source": [
        "# Larger kernel\n",
        "model_large_kernel = SimpleConvNet(in_channels=3, out_channels=1, kernel_size=5, stride=1, padding=2)\n",
        "print(\"Output with 5x5 kernel:\", model_large_kernel(image).shape)\n",
        "\n",
        "# Stride 2 (reduces spatial size)\n",
        "model_stride2 = SimpleConvNet(in_channels=3, out_channels=1, kernel_size=3, stride=2, padding=1)\n",
        "print(\"Output with stride=2:\", model_stride2(image).shape)\n",
        "\n",
        "# No padding\n",
        "model_no_padding = SimpleConvNet(in_channels=3, out_channels=1, kernel_size=3, stride=1, padding=0)\n",
        "print(\"Output with no padding:\", model_no_padding(image).shape)\n"
      ],
      "metadata": {
        "colab": {
          "base_uri": "https://localhost:8080/"
        },
        "id": "B_9F-M1U-RI5",
        "outputId": "d987a49d-df59-4b12-b891-ec26a0618c4e"
      },
      "execution_count": 32,
      "outputs": [
        {
          "output_type": "stream",
          "name": "stdout",
          "text": [
            "Output with 5x5 kernel: torch.Size([1, 1, 64, 64])\n",
            "Output with stride=2: torch.Size([1, 1, 32, 32])\n",
            "Output with no padding: torch.Size([1, 1, 62, 62])\n"
          ]
        }
      ]
    },
    {
      "cell_type": "markdown",
      "source": [
        "3.3 Pooling Functions\n",
        "1. Extend your CNN class to include a pooling layer (nn.MaxPool2d). Visualize and compare the feature maps before\n",
        "and after pooling. Verify if the output sizes match the expected dimensions.\n",
        "2. Implement Global Average Pooling (GAP) using nn.AdaptiveAvgPool2d and verify if the output sizes match the\n",
        "expected dimensions."
      ],
      "metadata": {
        "id": "ojm-Los3-ZvZ"
      }
    },
    {
      "cell_type": "code",
      "source": [
        "class ConvWithPooling(nn.Module):\n",
        "  def __init__(self, in_channels=3, out_channels=1, kernel_size=3, stride=1, padding=1):\n",
        "    super(ConvWithPooling,self).__init__()\n",
        "    self.conv = nn.Conv2d(in_channels=in_channels,out_channels=out_channels,kernel_size=kernel_size,stride=stride,padding=padding)\n",
        "    self.pool = nn.MaxPool2d(kernel_size=2,stride=2)\n",
        "\n",
        "  def forward(self,x):\n",
        "    conv_out = self.conv(x)\n",
        "    pooled_out = self.pool(conv_out)\n",
        "    return conv_out, pooled_out\n",
        "\n",
        ""
      ],
      "metadata": {
        "id": "nlo0lO78-ZIx"
      },
      "execution_count": 33,
      "outputs": []
    },
    {
      "cell_type": "code",
      "source": [
        "model = ConvWithPooling()\n",
        "\n",
        "# Use edge detection kernel for clarity\n",
        "edge_kernel = torch.tensor([[-1,-1,-1],[-1,8,-1],[-1,-1,-1]], dtype=torch.float32)\n",
        "kernel = edge_kernel.view(1, 1, 3, 3).repeat(1, 3, 1, 1)  # 3-channel input\n",
        "model.conv.weight.data = kernel\n",
        "model.conv.bias.data.zero_()\n",
        "\n",
        "# Run on one image\n",
        "image, label = dataset[0]\n",
        "image = image.unsqueeze(0)  # [1, 3, 64, 64]\n",
        "conv_out, pooled_out = model(image)\n",
        "\n",
        "# Visualize\n",
        "def show_tensor(tensor, title):\n",
        "    plt.imshow(tensor.squeeze().detach().numpy(), cmap='gray')\n",
        "    plt.title(title)\n",
        "    plt.axis('off')\n",
        "    plt.show()\n",
        "\n",
        "show_tensor(conv_out, \"Before Pooling (Edge Detection)\")\n",
        "print(\"Shape before pooling:\", conv_out.shape)\n",
        "\n",
        "show_tensor(pooled_out, \"After Max Pooling (2x2)\")\n",
        "print(\"Shape after pooling:\", pooled_out.shape)\n"
      ],
      "metadata": {
        "colab": {
          "base_uri": "https://localhost:8080/",
          "height": 874
        },
        "id": "58kr8cjOIx5Z",
        "outputId": "8844ab9d-ff32-4503-e30a-4d6e330026eb"
      },
      "execution_count": 34,
      "outputs": [
        {
          "output_type": "display_data",
          "data": {
            "text/plain": [
              "<Figure size 640x480 with 1 Axes>"
            ],
            "image/png": "[encoded data removed]"
          },
          "metadata": {}
        },
        {
          "output_type": "stream",
          "name": "stdout",
          "text": [
            "Shape before pooling: torch.Size([1, 1, 64, 64])\n"
          ]
        },
        {
          "output_type": "display_data",
          "data": {
            "text/plain": [
              "<Figure size 640x480 with 1 Axes>"
            ],
            "image/png": "[encoded data removed]"
          },
          "metadata": {}
        },
        {
          "output_type": "stream",
          "name": "stdout",
          "text": [
            "Shape after pooling: torch.Size([1, 1, 32, 32])\n"
          ]
        }
      ]
    },
    {
      "cell_type": "code",
      "source": [
        "class GAPConvNet(nn.Module):\n",
        "    def __init__(self):\n",
        "        super(GAPConvNet, self).__init__()\n",
        "        self.conv = nn.Conv2d(3, 8, kernel_size=3, stride=1, padding=1)  # 8 filters\n",
        "        self.gap = nn.AdaptiveAvgPool2d((8,8))  # Output: [B, C, 1, 1]\n",
        "\n",
        "    def forward(self, x):\n",
        "        conv_out = self.conv(x)\n",
        "        gap_out = self.gap(conv_out)\n",
        "        return conv_out, gap_out\n"
      ],
      "metadata": {
        "id": "pEVsYzgaI1j7"
      },
      "execution_count": 35,
      "outputs": []
    },
    {
      "cell_type": "code",
      "source": [
        "model = GAPConvNet()\n",
        "conv_out, gap_out = model(image)\n",
        "\n",
        "print(\"Conv output shape:\", conv_out.shape)  # [1, 8, 64, 64]\n",
        "print(\"GAP output shape:\", gap_out.shape)    # [1, 8, 1, 1]\n"
      ],
      "metadata": {
        "colab": {
          "base_uri": "https://localhost:8080/"
        },
        "id": "nIQfL29OI6dG",
        "outputId": "25bb316a-a3a0-42cf-f3cc-9fe4e82b4175"
      },
      "execution_count": 36,
      "outputs": [
        {
          "output_type": "stream",
          "name": "stdout",
          "text": [
            "Conv output shape: torch.Size([1, 8, 64, 64])\n",
            "GAP output shape: torch.Size([1, 8, 8, 8])\n"
          ]
        }
      ]
    },
    {
      "cell_type": "code",
      "source": [
        "gap_out_flat = gap_out.view(gap_out.size(0), -1)  # shape: [1, 8]\n",
        "print(\"Flattened GAP shape:\", gap_out_flat.shape)\n"
      ],
      "metadata": {
        "colab": {
          "base_uri": "https://localhost:8080/"
        },
        "id": "_O7QpYzLOc-I",
        "outputId": "6d69e9dd-4212-4252-9ed0-1fd2ecb193cf"
      },
      "execution_count": 37,
      "outputs": [
        {
          "output_type": "stream",
          "name": "stdout",
          "text": [
            "Flattened GAP shape: torch.Size([1, 512])\n"
          ]
        }
      ]
    },
    {
      "cell_type": "code",
      "source": [
        "image, _ = dataset[0]\n",
        "image = image.unsqueeze(0)\n",
        "\n",
        "# Initialize models\n",
        "max_model = ConvWithPooling()\n",
        "gap_model = GAPConvNet()\n",
        "\n",
        "# Models\n",
        "max_model = ConvWithPooling()\n",
        "gap_model = GAPConvNet()\n",
        "\n",
        "# Outputs\n",
        "conv_max, max_pooled = max_model(image)\n",
        "conv_gap, gap_pooled = gap_model(image)\n",
        "\n",
        "# Plot\n",
        "plt.figure(figsize=(10, 6))\n",
        "\n",
        "# 1. Original Conv Output\n",
        "plt.subplot(2, 3, 1)\n",
        "plt.imshow(conv_max[0, 0].detach().numpy(), cmap='gray')\n",
        "plt.title(\"Conv Output (Max)\")\n",
        "plt.axis('off')\n",
        "\n",
        "# 2. After Max Pooling\n",
        "plt.subplot(2, 3, 2)\n",
        "plt.imshow(max_pooled[0, 0].detach().numpy(), cmap='gray')\n",
        "plt.title(\"After Max Pooling\")\n",
        "plt.axis('off')\n",
        "\n",
        "# 3. Upsampled Max Pooled (for fair comparison)\n",
        "plt.subplot(2, 3, 3)\n",
        "upsampled_max = nn.functional.interpolate(max_pooled, size=conv_max.shape[2:], mode='bilinear')\n",
        "plt.imshow(upsampled_max[0, 0].detach().numpy(), cmap='gray')\n",
        "plt.title(\"Upsampled Max Pooled\")\n",
        "plt.axis('off')\n",
        "\n",
        "# 4. Original Conv Output (GAP)\n",
        "plt.subplot(2, 3, 4)\n",
        "plt.imshow(conv_gap[0, 0].detach().numpy(), cmap='gray')\n",
        "plt.title(\"Conv Output (GAP)\")\n",
        "plt.axis('off')\n",
        "\n",
        "# 5. After GAP (8x8 map)\n",
        "plt.subplot(2, 3, 5)\n",
        "plt.imshow(gap_pooled[0, 0].detach().numpy(), cmap='gray')\n",
        "plt.title(\"After GAP (8x8)\")\n",
        "plt.axis('off')\n",
        "\n",
        "# 6. Upsampled GAP\n",
        "plt.subplot(2, 3, 6)\n",
        "upsampled_gap = nn.functional.interpolate(gap_pooled, size=conv_gap.shape[2:], mode='bilinear')\n",
        "plt.imshow(upsampled_gap[0, 0].detach().numpy(), cmap='gray')\n",
        "plt.title(\"Upsampled GAP\")\n",
        "plt.axis('off')\n",
        "\n",
        "plt.tight_layout()\n",
        "plt.show()"
      ],
      "metadata": {
        "colab": {
          "base_uri": "https://localhost:8080/",
          "height": 607
        },
        "id": "yIdR6DS_PUj-",
        "outputId": "be35a1b6-5822-45ea-999f-e461ae67cbbf"
      },
      "execution_count": 38,
      "outputs": [
        {
          "output_type": "display_data",
          "data": {
            "text/plain": [
              "<Figure size 1000x600 with 6 Axes>"
            ],
            "image/png": "[encoded data removed]"
          },
          "metadata": {}
        }
      ]
    },
    {
      "cell_type": "markdown",
      "source": [
        "3.4 Building the Complete CNN Model\n",
        "1. Implement the following CNN architecture:\n",
        "• Three convolutional layers, each followed by an activation function (nn.ReLU) and a MaxPool2d layer.\n",
        "• Apply a Global Average Pooling (GAP) layer.\n",
        "• An MLP with one hidden layer, where the input size matches the output of the GAP layer and the output size is 3\n",
        "(one for each class). The hidden layer should use ReLU activation, and the output layer should apply softmax\n",
        "activation.\n",
        "2. Print and verify the dimensions after each convolution, activation, pooling, GAP, and fully connected layer to ensure\n",
        "they match your expectations."
      ],
      "metadata": {
        "id": "kceZ8sf4RjcI"
      }
    },
    {
      "cell_type": "code",
      "source": [
        "class RockPaperScissorCNN(nn.Module):\n",
        "  def __init__(self,input_shape=(3,64,64),num_classes=3):\n",
        "    super(RockPaperScissorCNN,self).__init__()\n",
        "\n",
        "    self.conv1 = nn.Conv2d(in_channels=3,out_channels=16,kernel_size=3,padding=1)\n",
        "    self.pool1 = nn.MaxPool2d(2,2)\n",
        "\n",
        "    self.conv2 = nn.Conv2d(16,32,3,padding=1)\n",
        "    self.pool2 = nn.MaxPool2d(2,2)\n",
        "\n",
        "    self.conv3 = nn.Conv2d(32,64,3,padding=1)\n",
        "    self.pool3 = nn.MaxPool2d(2,2)\n",
        "\n",
        "    self.gap = nn.AdaptiveAvgPool2d((1,1))\n",
        "\n",
        "    self.fc1 = nn.Linear(64,32)\n",
        "    self.fc2 = nn.Linear(32,num_classes)\n",
        "\n",
        "  def forward(self,x):\n",
        "    print(\"Input shape:\", x.shape)\n",
        "\n",
        "    x = self.conv1(x)\n",
        "    x = F.relu(x)\n",
        "    x = self.pool1(x)\n",
        "    print(\"After Conv1+ReLU+Pool:\", x.shape)\n",
        "\n",
        "    x = self.conv2(x)\n",
        "    x = F.relu(x)\n",
        "    x = self.pool2(x)\n",
        "    print(\"After Conv2+ReLU+Pool:\", x.shape)\n",
        "\n",
        "    x = self.conv3(x)\n",
        "    x = F.relu(x)\n",
        "    x = self.pool3(x)\n",
        "    print(\"After Conv3+ReLU+Pool:\", x.shape)\n",
        "\n",
        "    x = self.gap(x)\n",
        "    print(\"After GAP:\", x.shape)\n",
        "\n",
        "    x = x.view(x.size(0), -1)  # Flatten to [B, 64]\n",
        "    print(\"After Flatten:\", x.shape)\n",
        "\n",
        "    x = self.fc1(x)\n",
        "    x = F.relu(x)\n",
        "    print(\"After FC1+ReLU:\", x.shape)\n",
        "\n",
        "    x = self.fc2(x)\n",
        "    print(\"After FC2 (pre-softmax):\", x.shape)\n",
        "\n",
        "    x = F.softmax(x, dim=1)\n",
        "    print(\"After Softmax:\", x.shape)\n",
        "\n",
        "    return x"
      ],
      "metadata": {
        "id": "1MPLB11NRj_4"
      },
      "execution_count": 39,
      "outputs": []
    },
    {
      "cell_type": "code",
      "source": [
        "# Simulate one sample from dataset (3, 64, 64)\n",
        "sample_image, _ = dataset[0]\n",
        "sample_image = sample_image.unsqueeze(0)  # Shape: [1, 3, 64, 64]\n",
        "\n",
        "model = RockPaperScissorCNN()\n",
        "output = model(sample_image)\n"
      ],
      "metadata": {
        "colab": {
          "base_uri": "https://localhost:8080/"
        },
        "id": "7RgIyHmYUIJy",
        "outputId": "17514c0f-b103-46f5-b557-19fe61dbf21f"
      },
      "execution_count": 40,
      "outputs": [
        {
          "output_type": "stream",
          "name": "stdout",
          "text": [
            "Input shape: torch.Size([1, 3, 64, 64])\n",
            "After Conv1+ReLU+Pool: torch.Size([1, 16, 32, 32])\n",
            "After Conv2+ReLU+Pool: torch.Size([1, 32, 16, 16])\n",
            "After Conv3+ReLU+Pool: torch.Size([1, 64, 8, 8])\n",
            "After GAP: torch.Size([1, 64, 1, 1])\n",
            "After Flatten: torch.Size([1, 64])\n",
            "After FC1+ReLU: torch.Size([1, 32])\n",
            "After FC2 (pre-softmax): torch.Size([1, 3])\n",
            "After Softmax: torch.Size([1, 3])\n"
          ]
        }
      ]
    },
    {
      "cell_type": "markdown",
      "source": [
        "3.5 Training and Evaluation\n",
        "1. Train your CNN model on the training set using the basic optimizer SGD and the loss function nn.CrossEntropyLoss().\n",
        "2. Evaluate your model on the test set and plot the training and test accuracy curves.\n",
        "3. Experiment with learning rates, batch sizes, and epochs. Analyze and visualize how these hyperparameters affect\n",
        "your model’s performance."
      ],
      "metadata": {
        "id": "ANRn9EisUn43"
      }
    },
    {
      "cell_type": "code",
      "source": [
        "device = torch.device(\"cuda\" if torch.cuda.is_available() else \"cpu\")\n",
        "model = RockPaperScissorCNN().to(device)\n",
        "import torch.optim as optim\n",
        "criterion = nn.CrossEntropyLoss()\n",
        "optimizer = optim.SGD(model.parameters(), lr=0.01)\n",
        "\n",
        "\n"
      ],
      "metadata": {
        "id": "0AwiBt3UUndX"
      },
      "execution_count": 42,
      "outputs": []
    },
    {
      "cell_type": "code",
      "source": [
        "def evaluate(model, loader):\n",
        "    model.eval()\n",
        "    correct, total = 0, 0\n",
        "    with torch.no_grad():\n",
        "        for images, labels in loader:\n",
        "            images, labels = images.to(device), labels.to(device)\n",
        "            outputs = model(images)\n",
        "            predicted = torch.argmax(outputs, dim=1)\n",
        "            correct += (predicted == labels).sum().item()\n",
        "            total += labels.size(0)\n",
        "    return correct / total\n"
      ],
      "metadata": {
        "id": "28HlqA7iUy-w"
      },
      "execution_count": 43,
      "outputs": []
    },
    {
      "cell_type": "code",
      "source": [
        "train_acc_list = []\n",
        "test_acc_list = []\n",
        "\n",
        "epochs = 10\n",
        "for epoch in range(epochs):\n",
        "    model.train()\n",
        "    for images, labels in train_loader:\n",
        "        images, labels = images.to(device), labels.to(device)\n",
        "\n",
        "        outputs = model(images)\n",
        "        loss = criterion(outputs, labels)\n",
        "\n",
        "        optimizer.zero_grad()\n",
        "        loss.backward()\n",
        "        optimizer.step()\n",
        "\n",
        "    # Evaluate after each epoch\n",
        "    train_acc = evaluate(model, train_loader)\n",
        "    test_acc = evaluate(model, test_loader)\n",
        "\n",
        "    train_acc_list.append(train_acc)\n",
        "    test_acc_list.append(test_acc)\n",
        "\n",
        "    print(f\"Epoch {epoch+1}/{epochs}, Train Acc: {train_acc:.4f}, Test Acc: {test_acc:.4f}\")\n"
      ],
      "metadata": {
        "colab": {
          "base_uri": "https://localhost:8080/",
          "height": 1000
        },
        "id": "z7QrakFTVEV8",
        "outputId": "b25a91d8-e8e8-4e16-e934-28132b8fd742"
      },
      "execution_count": 44,
      "outputs": [
        {
          "output_type": "stream",
          "name": "stdout",
          "text": [
            "Input shape: torch.Size([32, 3, 64, 64])\n",
            "After Conv1+ReLU+Pool: torch.Size([32, 16, 32, 32])\n",
            "After Conv2+ReLU+Pool: torch.Size([32, 32, 16, 16])\n",
            "After Conv3+ReLU+Pool: torch.Size([32, 64, 8, 8])\n",
            "After GAP: torch.Size([32, 64, 1, 1])\n",
            "After Flatten: torch.Size([32, 64])\n",
            "After FC1+ReLU: torch.Size([32, 32])\n",
            "After FC2 (pre-softmax): torch.Size([32, 3])\n",
            "After Softmax: torch.Size([32, 3])\n",
            "Input shape: torch.Size([32, 3, 64, 64])\n",
            "After Conv1+ReLU+Pool: torch.Size([32, 16, 32, 32])\n",
            "After Conv2+ReLU+Pool: torch.Size([32, 32, 16, 16])\n",
            "After Conv3+ReLU+Pool: torch.Size([32, 64, 8, 8])\n",
            "After GAP: torch.Size([32, 64, 1, 1])\n",
            "After Flatten: torch.Size([32, 64])\n",
            "After FC1+ReLU: torch.Size([32, 32])\n",
            "After FC2 (pre-softmax): torch.Size([32, 3])\n",
            "After Softmax: torch.Size([32, 3])\n",
            "Input shape: torch.Size([32, 3, 64, 64])\n",
            "After Conv1+ReLU+Pool: torch.Size([32, 16, 32, 32])\n",
            "After Conv2+ReLU+Pool: torch.Size([32, 32, 16, 16])\n",
            "After Conv3+ReLU+Pool: torch.Size([32, 64, 8, 8])\n",
            "After GAP: torch.Size([32, 64, 1, 1])\n",
            "After Flatten: torch.Size([32, 64])\n",
            "After FC1+ReLU: torch.Size([32, 32])\n",
            "After FC2 (pre-softmax): torch.Size([32, 3])\n",
            "After Softmax: torch.Size([32, 3])\n",
            "Input shape: torch.Size([32, 3, 64, 64])\n",
            "After Conv1+ReLU+Pool: torch.Size([32, 16, 32, 32])\n",
            "After Conv2+ReLU+Pool: torch.Size([32, 32, 16, 16])\n",
            "After Conv3+ReLU+Pool: torch.Size([32, 64, 8, 8])\n",
            "After GAP: torch.Size([32, 64, 1, 1])\n",
            "After Flatten: torch.Size([32, 64])\n",
            "After FC1+ReLU: torch.Size([32, 32])\n",
            "After FC2 (pre-softmax): torch.Size([32, 3])\n",
            "After Softmax: torch.Size([32, 3])\n",
            "Input shape: torch.Size([32, 3, 64, 64])\n",
            "After Conv1+ReLU+Pool: torch.Size([32, 16, 32, 32])\n",
            "After Conv2+ReLU+Pool: torch.Size([32, 32, 16, 16])\n",
            "After Conv3+ReLU+Pool: torch.Size([32, 64, 8, 8])\n",
            "After GAP: torch.Size([32, 64, 1, 1])\n",
            "After Flatten: torch.Size([32, 64])\n",
            "After FC1+ReLU: torch.Size([32, 32])\n",
            "After FC2 (pre-softmax): torch.Size([32, 3])\n",
            "After Softmax: torch.Size([32, 3])\n",
            "Input shape: torch.Size([32, 3, 64, 64])\n",
            "After Conv1+ReLU+Pool: torch.Size([32, 16, 32, 32])\n",
            "After Conv2+ReLU+Pool: torch.Size([32, 32, 16, 16])\n",
            "After Conv3+ReLU+Pool: torch.Size([32, 64, 8, 8])\n",
            "After GAP: torch.Size([32, 64, 1, 1])\n",
            "After Flatten: torch.Size([32, 64])\n",
            "After FC1+ReLU: torch.Size([32, 32])\n",
            "After FC2 (pre-softmax): torch.Size([32, 3])\n",
            "After Softmax: torch.Size([32, 3])\n",
            "Input shape: torch.Size([32, 3, 64, 64])\n",
            "After Conv1+ReLU+Pool: torch.Size([32, 16, 32, 32])\n",
            "After Conv2+ReLU+Pool: torch.Size([32, 32, 16, 16])\n",
            "After Conv3+ReLU+Pool: torch.Size([32, 64, 8, 8])\n",
            "After GAP: torch.Size([32, 64, 1, 1])\n",
            "After Flatten: torch.Size([32, 64])\n",
            "After FC1+ReLU: torch.Size([32, 32])\n",
            "After FC2 (pre-softmax): torch.Size([32, 3])\n",
            "After Softmax: torch.Size([32, 3])\n",
            "Input shape: torch.Size([32, 3, 64, 64])\n",
            "After Conv1+ReLU+Pool: torch.Size([32, 16, 32, 32])\n",
            "After Conv2+ReLU+Pool: torch.Size([32, 32, 16, 16])\n",
            "After Conv3+ReLU+Pool: torch.Size([32, 64, 8, 8])\n",
            "After GAP: torch.Size([32, 64, 1, 1])\n",
            "After Flatten: torch.Size([32, 64])\n",
            "After FC1+ReLU: torch.Size([32, 32])\n",
            "After FC2 (pre-softmax): torch.Size([32, 3])\n",
            "After Softmax: torch.Size([32, 3])\n",
            "Input shape: torch.Size([32, 3, 64, 64])\n",
            "After Conv1+ReLU+Pool: torch.Size([32, 16, 32, 32])\n",
            "After Conv2+ReLU+Pool: torch.Size([32, 32, 16, 16])\n",
            "After Conv3+ReLU+Pool: torch.Size([32, 64, 8, 8])\n",
            "After GAP: torch.Size([32, 64, 1, 1])\n",
            "After Flatten: torch.Size([32, 64])\n",
            "After FC1+ReLU: torch.Size([32, 32])\n",
            "After FC2 (pre-softmax): torch.Size([32, 3])\n",
            "After Softmax: torch.Size([32, 3])\n",
            "Input shape: torch.Size([32, 3, 64, 64])\n",
            "After Conv1+ReLU+Pool: torch.Size([32, 16, 32, 32])\n",
            "After Conv2+ReLU+Pool: torch.Size([32, 32, 16, 16])\n",
            "After Conv3+ReLU+Pool: torch.Size([32, 64, 8, 8])\n",
            "After GAP: torch.Size([32, 64, 1, 1])\n",
            "After Flatten: torch.Size([32, 64])\n",
            "After FC1+ReLU: torch.Size([32, 32])\n",
            "After FC2 (pre-softmax): torch.Size([32, 3])\n",
            "After Softmax: torch.Size([32, 3])\n",
            "Input shape: torch.Size([32, 3, 64, 64])\n",
            "After Conv1+ReLU+Pool: torch.Size([32, 16, 32, 32])\n",
            "After Conv2+ReLU+Pool: torch.Size([32, 32, 16, 16])\n",
            "After Conv3+ReLU+Pool: torch.Size([32, 64, 8, 8])\n",
            "After GAP: torch.Size([32, 64, 1, 1])\n",
            "After Flatten: torch.Size([32, 64])\n",
            "After FC1+ReLU: torch.Size([32, 32])\n",
            "After FC2 (pre-softmax): torch.Size([32, 3])\n",
            "After Softmax: torch.Size([32, 3])\n",
            "Input shape: torch.Size([32, 3, 64, 64])\n",
            "After Conv1+ReLU+Pool: torch.Size([32, 16, 32, 32])\n",
            "After Conv2+ReLU+Pool: torch.Size([32, 32, 16, 16])\n",
            "After Conv3+ReLU+Pool: torch.Size([32, 64, 8, 8])\n",
            "After GAP: torch.Size([32, 64, 1, 1])\n",
            "After Flatten: torch.Size([32, 64])\n",
            "After FC1+ReLU: torch.Size([32, 32])\n",
            "After FC2 (pre-softmax): torch.Size([32, 3])\n",
            "After Softmax: torch.Size([32, 3])\n",
            "Input shape: torch.Size([32, 3, 64, 64])\n",
            "After Conv1+ReLU+Pool: torch.Size([32, 16, 32, 32])\n",
            "After Conv2+ReLU+Pool: torch.Size([32, 32, 16, 16])\n",
            "After Conv3+ReLU+Pool: torch.Size([32, 64, 8, 8])\n",
            "After GAP: torch.Size([32, 64, 1, 1])\n",
            "After Flatten: torch.Size([32, 64])\n",
            "After FC1+ReLU: torch.Size([32, 32])\n",
            "After FC2 (pre-softmax): torch.Size([32, 3])\n",
            "After Softmax: torch.Size([32, 3])\n",
            "Input shape: torch.Size([32, 3, 64, 64])\n",
            "After Conv1+ReLU+Pool: torch.Size([32, 16, 32, 32])\n",
            "After Conv2+ReLU+Pool: torch.Size([32, 32, 16, 16])\n",
            "After Conv3+ReLU+Pool: torch.Size([32, 64, 8, 8])\n",
            "After GAP: torch.Size([32, 64, 1, 1])\n",
            "After Flatten: torch.Size([32, 64])\n",
            "After FC1+ReLU: torch.Size([32, 32])\n",
            "After FC2 (pre-softmax): torch.Size([32, 3])\n",
            "After Softmax: torch.Size([32, 3])\n",
            "Input shape: torch.Size([32, 3, 64, 64])\n",
            "After Conv1+ReLU+Pool: torch.Size([32, 16, 32, 32])\n",
            "After Conv2+ReLU+Pool: torch.Size([32, 32, 16, 16])\n",
            "After Conv3+ReLU+Pool: torch.Size([32, 64, 8, 8])\n",
            "After GAP: torch.Size([32, 64, 1, 1])\n",
            "After Flatten: torch.Size([32, 64])\n",
            "After FC1+ReLU: torch.Size([32, 32])\n",
            "After FC2 (pre-softmax): torch.Size([32, 3])\n",
            "After Softmax: torch.Size([32, 3])\n",
            "Input shape: torch.Size([32, 3, 64, 64])\n",
            "After Conv1+ReLU+Pool: torch.Size([32, 16, 32, 32])\n",
            "After Conv2+ReLU+Pool: torch.Size([32, 32, 16, 16])\n",
            "After Conv3+ReLU+Pool: torch.Size([32, 64, 8, 8])\n",
            "After GAP: torch.Size([32, 64, 1, 1])\n",
            "After Flatten: torch.Size([32, 64])\n",
            "After FC1+ReLU: torch.Size([32, 32])\n",
            "After FC2 (pre-softmax): torch.Size([32, 3])\n",
            "After Softmax: torch.Size([32, 3])\n",
            "Input shape: torch.Size([32, 3, 64, 64])\n",
            "After Conv1+ReLU+Pool: torch.Size([32, 16, 32, 32])\n",
            "After Conv2+ReLU+Pool: torch.Size([32, 32, 16, 16])\n",
            "After Conv3+ReLU+Pool: torch.Size([32, 64, 8, 8])\n",
            "After GAP: torch.Size([32, 64, 1, 1])\n",
            "After Flatten: torch.Size([32, 64])\n",
            "After FC1+ReLU: torch.Size([32, 32])\n",
            "After FC2 (pre-softmax): torch.Size([32, 3])\n",
            "After Softmax: torch.Size([32, 3])\n",
            "Input shape: torch.Size([32, 3, 64, 64])\n",
            "After Conv1+ReLU+Pool: torch.Size([32, 16, 32, 32])\n",
            "After Conv2+ReLU+Pool: torch.Size([32, 32, 16, 16])\n",
            "After Conv3+ReLU+Pool: torch.Size([32, 64, 8, 8])\n",
            "After GAP: torch.Size([32, 64, 1, 1])\n",
            "After Flatten: torch.Size([32, 64])\n",
            "After FC1+ReLU: torch.Size([32, 32])\n",
            "After FC2 (pre-softmax): torch.Size([32, 3])\n",
            "After Softmax: torch.Size([32, 3])\n",
            "Input shape: torch.Size([32, 3, 64, 64])\n",
            "After Conv1+ReLU+Pool: torch.Size([32, 16, 32, 32])\n",
            "After Conv2+ReLU+Pool: torch.Size([32, 32, 16, 16])\n",
            "After Conv3+ReLU+Pool: torch.Size([32, 64, 8, 8])\n",
            "After GAP: torch.Size([32, 64, 1, 1])\n",
            "After Flatten: torch.Size([32, 64])\n",
            "After FC1+ReLU: torch.Size([32, 32])\n",
            "After FC2 (pre-softmax): torch.Size([32, 3])\n",
            "After Softmax: torch.Size([32, 3])\n",
            "Input shape: torch.Size([32, 3, 64, 64])\n",
            "After Conv1+ReLU+Pool: torch.Size([32, 16, 32, 32])\n",
            "After Conv2+ReLU+Pool: torch.Size([32, 32, 16, 16])\n",
            "After Conv3+ReLU+Pool: torch.Size([32, 64, 8, 8])\n",
            "After GAP: torch.Size([32, 64, 1, 1])\n",
            "After Flatten: torch.Size([32, 64])\n",
            "After FC1+ReLU: torch.Size([32, 32])\n",
            "After FC2 (pre-softmax): torch.Size([32, 3])\n",
            "After Softmax: torch.Size([32, 3])\n",
            "Input shape: torch.Size([32, 3, 64, 64])\n",
            "After Conv1+ReLU+Pool: torch.Size([32, 16, 32, 32])\n",
            "After Conv2+ReLU+Pool: torch.Size([32, 32, 16, 16])\n",
            "After Conv3+ReLU+Pool: torch.Size([32, 64, 8, 8])\n",
            "After GAP: torch.Size([32, 64, 1, 1])\n",
            "After Flatten: torch.Size([32, 64])\n",
            "After FC1+ReLU: torch.Size([32, 32])\n",
            "After FC2 (pre-softmax): torch.Size([32, 3])\n",
            "After Softmax: torch.Size([32, 3])\n",
            "Input shape: torch.Size([32, 3, 64, 64])\n",
            "After Conv1+ReLU+Pool: torch.Size([32, 16, 32, 32])\n",
            "After Conv2+ReLU+Pool: torch.Size([32, 32, 16, 16])\n",
            "After Conv3+ReLU+Pool: torch.Size([32, 64, 8, 8])\n",
            "After GAP: torch.Size([32, 64, 1, 1])\n",
            "After Flatten: torch.Size([32, 64])\n",
            "After FC1+ReLU: torch.Size([32, 32])\n",
            "After FC2 (pre-softmax): torch.Size([32, 3])\n",
            "After Softmax: torch.Size([32, 3])\n",
            "Input shape: torch.Size([32, 3, 64, 64])\n",
            "After Conv1+ReLU+Pool: torch.Size([32, 16, 32, 32])\n",
            "After Conv2+ReLU+Pool: torch.Size([32, 32, 16, 16])\n",
            "After Conv3+ReLU+Pool: torch.Size([32, 64, 8, 8])\n",
            "After GAP: torch.Size([32, 64, 1, 1])\n",
            "After Flatten: torch.Size([32, 64])\n",
            "After FC1+ReLU: torch.Size([32, 32])\n",
            "After FC2 (pre-softmax): torch.Size([32, 3])\n",
            "After Softmax: torch.Size([32, 3])\n",
            "Input shape: torch.Size([32, 3, 64, 64])\n",
            "After Conv1+ReLU+Pool: torch.Size([32, 16, 32, 32])\n",
            "After Conv2+ReLU+Pool: torch.Size([32, 32, 16, 16])\n",
            "After Conv3+ReLU+Pool: torch.Size([32, 64, 8, 8])\n",
            "After GAP: torch.Size([32, 64, 1, 1])\n",
            "After Flatten: torch.Size([32, 64])\n",
            "After FC1+ReLU: torch.Size([32, 32])\n",
            "After FC2 (pre-softmax): torch.Size([32, 3])\n",
            "After Softmax: torch.Size([32, 3])\n",
            "Input shape: torch.Size([32, 3, 64, 64])\n",
            "After Conv1+ReLU+Pool: torch.Size([32, 16, 32, 32])\n",
            "After Conv2+ReLU+Pool: torch.Size([32, 32, 16, 16])\n",
            "After Conv3+ReLU+Pool: torch.Size([32, 64, 8, 8])\n",
            "After GAP: torch.Size([32, 64, 1, 1])\n",
            "After Flatten: torch.Size([32, 64])\n",
            "After FC1+ReLU: torch.Size([32, 32])\n",
            "After FC2 (pre-softmax): torch.Size([32, 3])\n",
            "After Softmax: torch.Size([32, 3])\n",
            "Input shape: torch.Size([32, 3, 64, 64])\n",
            "After Conv1+ReLU+Pool: torch.Size([32, 16, 32, 32])\n",
            "After Conv2+ReLU+Pool: torch.Size([32, 32, 16, 16])\n",
            "After Conv3+ReLU+Pool: torch.Size([32, 64, 8, 8])\n",
            "After GAP: torch.Size([32, 64, 1, 1])\n",
            "After Flatten: torch.Size([32, 64])\n",
            "After FC1+ReLU: torch.Size([32, 32])\n",
            "After FC2 (pre-softmax): torch.Size([32, 3])\n",
            "After Softmax: torch.Size([32, 3])\n",
            "Input shape: torch.Size([32, 3, 64, 64])\n",
            "After Conv1+ReLU+Pool: torch.Size([32, 16, 32, 32])\n",
            "After Conv2+ReLU+Pool: torch.Size([32, 32, 16, 16])\n",
            "After Conv3+ReLU+Pool: torch.Size([32, 64, 8, 8])\n",
            "After GAP: torch.Size([32, 64, 1, 1])\n",
            "After Flatten: torch.Size([32, 64])\n",
            "After FC1+ReLU: torch.Size([32, 32])\n",
            "After FC2 (pre-softmax): torch.Size([32, 3])\n",
            "After Softmax: torch.Size([32, 3])\n",
            "Input shape: torch.Size([32, 3, 64, 64])\n",
            "After Conv1+ReLU+Pool: torch.Size([32, 16, 32, 32])\n",
            "After Conv2+ReLU+Pool: torch.Size([32, 32, 16, 16])\n",
            "After Conv3+ReLU+Pool: torch.Size([32, 64, 8, 8])\n",
            "After GAP: torch.Size([32, 64, 1, 1])\n",
            "After Flatten: torch.Size([32, 64])\n",
            "After FC1+ReLU: torch.Size([32, 32])\n",
            "After FC2 (pre-softmax): torch.Size([32, 3])\n",
            "After Softmax: torch.Size([32, 3])\n",
            "Input shape: torch.Size([32, 3, 64, 64])\n",
            "After Conv1+ReLU+Pool: torch.Size([32, 16, 32, 32])\n",
            "After Conv2+ReLU+Pool: torch.Size([32, 32, 16, 16])\n",
            "After Conv3+ReLU+Pool: torch.Size([32, 64, 8, 8])\n",
            "After GAP: torch.Size([32, 64, 1, 1])\n",
            "After Flatten: torch.Size([32, 64])\n",
            "After FC1+ReLU: torch.Size([32, 32])\n",
            "After FC2 (pre-softmax): torch.Size([32, 3])\n",
            "After Softmax: torch.Size([32, 3])\n",
            "Input shape: torch.Size([32, 3, 64, 64])\n",
            "After Conv1+ReLU+Pool: torch.Size([32, 16, 32, 32])\n",
            "After Conv2+ReLU+Pool: torch.Size([32, 32, 16, 16])\n",
            "After Conv3+ReLU+Pool: torch.Size([32, 64, 8, 8])\n",
            "After GAP: torch.Size([32, 64, 1, 1])\n",
            "After Flatten: torch.Size([32, 64])\n",
            "After FC1+ReLU: torch.Size([32, 32])\n",
            "After FC2 (pre-softmax): torch.Size([32, 3])\n",
            "After Softmax: torch.Size([32, 3])\n",
            "Input shape: torch.Size([32, 3, 64, 64])\n",
            "After Conv1+ReLU+Pool: torch.Size([32, 16, 32, 32])\n",
            "After Conv2+ReLU+Pool: torch.Size([32, 32, 16, 16])\n",
            "After Conv3+ReLU+Pool: torch.Size([32, 64, 8, 8])\n",
            "After GAP: torch.Size([32, 64, 1, 1])\n",
            "After Flatten: torch.Size([32, 64])\n",
            "After FC1+ReLU: torch.Size([32, 32])\n",
            "After FC2 (pre-softmax): torch.Size([32, 3])\n",
            "After Softmax: torch.Size([32, 3])\n",
            "Input shape: torch.Size([32, 3, 64, 64])\n",
            "After Conv1+ReLU+Pool: torch.Size([32, 16, 32, 32])\n",
            "After Conv2+ReLU+Pool: torch.Size([32, 32, 16, 16])\n",
            "After Conv3+ReLU+Pool: torch.Size([32, 64, 8, 8])\n",
            "After GAP: torch.Size([32, 64, 1, 1])\n",
            "After Flatten: torch.Size([32, 64])\n",
            "After FC1+ReLU: torch.Size([32, 32])\n",
            "After FC2 (pre-softmax): torch.Size([32, 3])\n",
            "After Softmax: torch.Size([32, 3])\n",
            "Input shape: torch.Size([32, 3, 64, 64])\n",
            "After Conv1+ReLU+Pool: torch.Size([32, 16, 32, 32])\n",
            "After Conv2+ReLU+Pool: torch.Size([32, 32, 16, 16])\n",
            "After Conv3+ReLU+Pool: torch.Size([32, 64, 8, 8])\n",
            "After GAP: torch.Size([32, 64, 1, 1])\n",
            "After Flatten: torch.Size([32, 64])\n",
            "After FC1+ReLU: torch.Size([32, 32])\n",
            "After FC2 (pre-softmax): torch.Size([32, 3])\n",
            "After Softmax: torch.Size([32, 3])\n",
            "Input shape: torch.Size([32, 3, 64, 64])\n",
            "After Conv1+ReLU+Pool: torch.Size([32, 16, 32, 32])\n",
            "After Conv2+ReLU+Pool: torch.Size([32, 32, 16, 16])\n",
            "After Conv3+ReLU+Pool: torch.Size([32, 64, 8, 8])\n",
            "After GAP: torch.Size([32, 64, 1, 1])\n",
            "After Flatten: torch.Size([32, 64])\n",
            "After FC1+ReLU: torch.Size([32, 32])\n",
            "After FC2 (pre-softmax): torch.Size([32, 3])\n",
            "After Softmax: torch.Size([32, 3])\n",
            "Input shape: torch.Size([32, 3, 64, 64])\n",
            "After Conv1+ReLU+Pool: torch.Size([32, 16, 32, 32])\n",
            "After Conv2+ReLU+Pool: torch.Size([32, 32, 16, 16])\n",
            "After Conv3+ReLU+Pool: torch.Size([32, 64, 8, 8])\n",
            "After GAP: torch.Size([32, 64, 1, 1])\n",
            "After Flatten: torch.Size([32, 64])\n",
            "After FC1+ReLU: torch.Size([32, 32])\n",
            "After FC2 (pre-softmax): torch.Size([32, 3])\n",
            "After Softmax: torch.Size([32, 3])\n",
            "Input shape: torch.Size([32, 3, 64, 64])\n",
            "After Conv1+ReLU+Pool: torch.Size([32, 16, 32, 32])\n",
            "After Conv2+ReLU+Pool: torch.Size([32, 32, 16, 16])\n",
            "After Conv3+ReLU+Pool: torch.Size([32, 64, 8, 8])\n",
            "After GAP: torch.Size([32, 64, 1, 1])\n",
            "After Flatten: torch.Size([32, 64])\n",
            "After FC1+ReLU: torch.Size([32, 32])\n",
            "After FC2 (pre-softmax): torch.Size([32, 3])\n",
            "After Softmax: torch.Size([32, 3])\n",
            "Input shape: torch.Size([32, 3, 64, 64])\n",
            "After Conv1+ReLU+Pool: torch.Size([32, 16, 32, 32])\n",
            "After Conv2+ReLU+Pool: torch.Size([32, 32, 16, 16])\n",
            "After Conv3+ReLU+Pool: torch.Size([32, 64, 8, 8])\n",
            "After GAP: torch.Size([32, 64, 1, 1])\n",
            "After Flatten: torch.Size([32, 64])\n",
            "After FC1+ReLU: torch.Size([32, 32])\n",
            "After FC2 (pre-softmax): torch.Size([32, 3])\n",
            "After Softmax: torch.Size([32, 3])\n",
            "Input shape: torch.Size([32, 3, 64, 64])\n",
            "After Conv1+ReLU+Pool: torch.Size([32, 16, 32, 32])\n",
            "After Conv2+ReLU+Pool: torch.Size([32, 32, 16, 16])\n",
            "After Conv3+ReLU+Pool: torch.Size([32, 64, 8, 8])\n",
            "After GAP: torch.Size([32, 64, 1, 1])\n",
            "After Flatten: torch.Size([32, 64])\n",
            "After FC1+ReLU: torch.Size([32, 32])\n",
            "After FC2 (pre-softmax): torch.Size([32, 3])\n",
            "After Softmax: torch.Size([32, 3])\n"
          ]
        },
        {
          "output_type": "error",
          "ename": "KeyboardInterrupt",
          "evalue": "",
          "traceback": [
            "\u001b[0;31m---------------------------------------------------------------------------\u001b[0m",
            "\u001b[0;31mKeyboardInterrupt\u001b[0m                         Traceback (most recent call last)",
            "\u001b[0;32m<ipython-input-44-ef94eb3e781d>\u001b[0m in \u001b[0;36m<cell line: 0>\u001b[0;34m()\u001b[0m\n\u001b[1;32m      5\u001b[0m \u001b[0;32mfor\u001b[0m \u001b[0mepoch\u001b[0m \u001b[0;32min\u001b[0m \u001b[0mrange\u001b[0m\u001b[0;34m(\u001b[0m\u001b[0mepochs\u001b[0m\u001b[0;34m)\u001b[0m\u001b[0;34m:\u001b[0m\u001b[0;34m\u001b[0m\u001b[0;34m\u001b[0m\u001b[0m\n\u001b[1;32m      6\u001b[0m     \u001b[0mmodel\u001b[0m\u001b[0;34m.\u001b[0m\u001b[0mtrain\u001b[0m\u001b[0;34m(\u001b[0m\u001b[0;34m)\u001b[0m\u001b[0;34m\u001b[0m\u001b[0;34m\u001b[0m\u001b[0m\n\u001b[0;32m----> 7\u001b[0;31m     \u001b[0;32mfor\u001b[0m \u001b[0mimages\u001b[0m\u001b[0;34m,\u001b[0m \u001b[0mlabels\u001b[0m \u001b[0;32min\u001b[0m \u001b[0mtrain_loader\u001b[0m\u001b[0;34m:\u001b[0m\u001b[0;34m\u001b[0m\u001b[0;34m\u001b[0m\u001b[0m\n\u001b[0m\u001b[1;32m      8\u001b[0m         \u001b[0mimages\u001b[0m\u001b[0;34m,\u001b[0m \u001b[0mlabels\u001b[0m \u001b[0;34m=\u001b[0m \u001b[0mimages\u001b[0m\u001b[0;34m.\u001b[0m\u001b[0mto\u001b[0m\u001b[0;34m(\u001b[0m\u001b[0mdevice\u001b[0m\u001b[0;34m)\u001b[0m\u001b[0;34m,\u001b[0m \u001b[0mlabels\u001b[0m\u001b[0;34m.\u001b[0m\u001b[0mto\u001b[0m\u001b[0;34m(\u001b[0m\u001b[0mdevice\u001b[0m\u001b[0;34m)\u001b[0m\u001b[0;34m\u001b[0m\u001b[0;34m\u001b[0m\u001b[0m\n\u001b[1;32m      9\u001b[0m \u001b[0;34m\u001b[0m\u001b[0m\n",
            "\u001b[0;32m/usr/local/lib/python3.11/dist-packages/torch/utils/data/dataloader.py\u001b[0m in \u001b[0;36m__next__\u001b[0;34m(self)\u001b[0m\n\u001b[1;32m    706\u001b[0m                 \u001b[0;31m# TODO(https://github.com/pytorch/pytorch/issues/76750)\u001b[0m\u001b[0;34m\u001b[0m\u001b[0;34m\u001b[0m\u001b[0m\n\u001b[1;32m    707\u001b[0m                 \u001b[0mself\u001b[0m\u001b[0;34m.\u001b[0m\u001b[0m_reset\u001b[0m\u001b[0;34m(\u001b[0m\u001b[0;34m)\u001b[0m  \u001b[0;31m# type: ignore[call-arg]\u001b[0m\u001b[0;34m\u001b[0m\u001b[0;34m\u001b[0m\u001b[0m\n\u001b[0;32m--> 708\u001b[0;31m             \u001b[0mdata\u001b[0m \u001b[0;34m=\u001b[0m \u001b[0mself\u001b[0m\u001b[0;34m.\u001b[0m\u001b[0m_next_data\u001b[0m\u001b[0;34m(\u001b[0m\u001b[0;34m)\u001b[0m\u001b[0;34m\u001b[0m\u001b[0;34m\u001b[0m\u001b[0m\n\u001b[0m\u001b[1;32m    709\u001b[0m             \u001b[0mself\u001b[0m\u001b[0;34m.\u001b[0m\u001b[0m_num_yielded\u001b[0m \u001b[0;34m+=\u001b[0m \u001b[0;36m1\u001b[0m\u001b[0;34m\u001b[0m\u001b[0;34m\u001b[0m\u001b[0m\n\u001b[1;32m    710\u001b[0m             if (\n",
            "\u001b[0;32m/usr/local/lib/python3.11/dist-packages/torch/utils/data/dataloader.py\u001b[0m in \u001b[0;36m_next_data\u001b[0;34m(self)\u001b[0m\n\u001b[1;32m    762\u001b[0m     \u001b[0;32mdef\u001b[0m \u001b[0m_next_data\u001b[0m\u001b[0;34m(\u001b[0m\u001b[0mself\u001b[0m\u001b[0;34m)\u001b[0m\u001b[0;34m:\u001b[0m\u001b[0;34m\u001b[0m\u001b[0;34m\u001b[0m\u001b[0m\n\u001b[1;32m    763\u001b[0m         \u001b[0mindex\u001b[0m \u001b[0;34m=\u001b[0m \u001b[0mself\u001b[0m\u001b[0;34m.\u001b[0m\u001b[0m_next_index\u001b[0m\u001b[0;34m(\u001b[0m\u001b[0;34m)\u001b[0m  \u001b[0;31m# may raise StopIteration\u001b[0m\u001b[0;34m\u001b[0m\u001b[0;34m\u001b[0m\u001b[0m\n\u001b[0;32m--> 764\u001b[0;31m         \u001b[0mdata\u001b[0m \u001b[0;34m=\u001b[0m \u001b[0mself\u001b[0m\u001b[0;34m.\u001b[0m\u001b[0m_dataset_fetcher\u001b[0m\u001b[0;34m.\u001b[0m\u001b[0mfetch\u001b[0m\u001b[0;34m(\u001b[0m\u001b[0mindex\u001b[0m\u001b[0;34m)\u001b[0m  \u001b[0;31m# may raise StopIteration\u001b[0m\u001b[0;34m\u001b[0m\u001b[0;34m\u001b[0m\u001b[0m\n\u001b[0m\u001b[1;32m    765\u001b[0m         \u001b[0;32mif\u001b[0m \u001b[0mself\u001b[0m\u001b[0;34m.\u001b[0m\u001b[0m_pin_memory\u001b[0m\u001b[0;34m:\u001b[0m\u001b[0;34m\u001b[0m\u001b[0;34m\u001b[0m\u001b[0m\n\u001b[1;32m    766\u001b[0m             \u001b[0mdata\u001b[0m \u001b[0;34m=\u001b[0m \u001b[0m_utils\u001b[0m\u001b[0;34m.\u001b[0m\u001b[0mpin_memory\u001b[0m\u001b[0;34m.\u001b[0m\u001b[0mpin_memory\u001b[0m\u001b[0;34m(\u001b[0m\u001b[0mdata\u001b[0m\u001b[0;34m,\u001b[0m \u001b[0mself\u001b[0m\u001b[0;34m.\u001b[0m\u001b[0m_pin_memory_device\u001b[0m\u001b[0;34m)\u001b[0m\u001b[0;34m\u001b[0m\u001b[0;34m\u001b[0m\u001b[0m\n",
            "\u001b[0;32m/usr/local/lib/python3.11/dist-packages/torch/utils/data/_utils/fetch.py\u001b[0m in \u001b[0;36mfetch\u001b[0;34m(self, possibly_batched_index)\u001b[0m\n\u001b[1;32m     48\u001b[0m         \u001b[0;32mif\u001b[0m \u001b[0mself\u001b[0m\u001b[0;34m.\u001b[0m\u001b[0mauto_collation\u001b[0m\u001b[0;34m:\u001b[0m\u001b[0;34m\u001b[0m\u001b[0;34m\u001b[0m\u001b[0m\n\u001b[1;32m     49\u001b[0m             \u001b[0;32mif\u001b[0m \u001b[0mhasattr\u001b[0m\u001b[0;34m(\u001b[0m\u001b[0mself\u001b[0m\u001b[0;34m.\u001b[0m\u001b[0mdataset\u001b[0m\u001b[0;34m,\u001b[0m \u001b[0;34m\"__getitems__\"\u001b[0m\u001b[0;34m)\u001b[0m \u001b[0;32mand\u001b[0m \u001b[0mself\u001b[0m\u001b[0;34m.\u001b[0m\u001b[0mdataset\u001b[0m\u001b[0;34m.\u001b[0m\u001b[0m__getitems__\u001b[0m\u001b[0;34m:\u001b[0m\u001b[0;34m\u001b[0m\u001b[0;34m\u001b[0m\u001b[0m\n\u001b[0;32m---> 50\u001b[0;31m                 \u001b[0mdata\u001b[0m \u001b[0;34m=\u001b[0m \u001b[0mself\u001b[0m\u001b[0;34m.\u001b[0m\u001b[0mdataset\u001b[0m\u001b[0;34m.\u001b[0m\u001b[0m__getitems__\u001b[0m\u001b[0;34m(\u001b[0m\u001b[0mpossibly_batched_index\u001b[0m\u001b[0;34m)\u001b[0m\u001b[0;34m\u001b[0m\u001b[0;34m\u001b[0m\u001b[0m\n\u001b[0m\u001b[1;32m     51\u001b[0m             \u001b[0;32melse\u001b[0m\u001b[0;34m:\u001b[0m\u001b[0;34m\u001b[0m\u001b[0;34m\u001b[0m\u001b[0m\n\u001b[1;32m     52\u001b[0m                 \u001b[0mdata\u001b[0m \u001b[0;34m=\u001b[0m \u001b[0;34m[\u001b[0m\u001b[0mself\u001b[0m\u001b[0;34m.\u001b[0m\u001b[0mdataset\u001b[0m\u001b[0;34m[\u001b[0m\u001b[0midx\u001b[0m\u001b[0;34m]\u001b[0m \u001b[0;32mfor\u001b[0m \u001b[0midx\u001b[0m \u001b[0;32min\u001b[0m \u001b[0mpossibly_batched_index\u001b[0m\u001b[0;34m]\u001b[0m\u001b[0;34m\u001b[0m\u001b[0;34m\u001b[0m\u001b[0m\n",
            "\u001b[0;32m/usr/local/lib/python3.11/dist-packages/torch/utils/data/dataset.py\u001b[0m in \u001b[0;36m__getitems__\u001b[0;34m(self, indices)\u001b[0m\n\u001b[1;32m    418\u001b[0m             \u001b[0;32mreturn\u001b[0m \u001b[0mself\u001b[0m\u001b[0;34m.\u001b[0m\u001b[0mdataset\u001b[0m\u001b[0;34m.\u001b[0m\u001b[0m__getitems__\u001b[0m\u001b[0;34m(\u001b[0m\u001b[0;34m[\u001b[0m\u001b[0mself\u001b[0m\u001b[0;34m.\u001b[0m\u001b[0mindices\u001b[0m\u001b[0;34m[\u001b[0m\u001b[0midx\u001b[0m\u001b[0;34m]\u001b[0m \u001b[0;32mfor\u001b[0m \u001b[0midx\u001b[0m \u001b[0;32min\u001b[0m \u001b[0mindices\u001b[0m\u001b[0;34m]\u001b[0m\u001b[0;34m)\u001b[0m  \u001b[0;31m# type: ignore[attr-defined]\u001b[0m\u001b[0;34m\u001b[0m\u001b[0;34m\u001b[0m\u001b[0m\n\u001b[1;32m    419\u001b[0m         \u001b[0;32melse\u001b[0m\u001b[0;34m:\u001b[0m\u001b[0;34m\u001b[0m\u001b[0;34m\u001b[0m\u001b[0m\n\u001b[0;32m--> 420\u001b[0;31m             \u001b[0;32mreturn\u001b[0m \u001b[0;34m[\u001b[0m\u001b[0mself\u001b[0m\u001b[0;34m.\u001b[0m\u001b[0mdataset\u001b[0m\u001b[0;34m[\u001b[0m\u001b[0mself\u001b[0m\u001b[0;34m.\u001b[0m\u001b[0mindices\u001b[0m\u001b[0;34m[\u001b[0m\u001b[0midx\u001b[0m\u001b[0;34m]\u001b[0m\u001b[0;34m]\u001b[0m \u001b[0;32mfor\u001b[0m \u001b[0midx\u001b[0m \u001b[0;32min\u001b[0m \u001b[0mindices\u001b[0m\u001b[0;34m]\u001b[0m\u001b[0;34m\u001b[0m\u001b[0;34m\u001b[0m\u001b[0m\n\u001b[0m\u001b[1;32m    421\u001b[0m \u001b[0;34m\u001b[0m\u001b[0m\n\u001b[1;32m    422\u001b[0m     \u001b[0;32mdef\u001b[0m \u001b[0m__len__\u001b[0m\u001b[0;34m(\u001b[0m\u001b[0mself\u001b[0m\u001b[0;34m)\u001b[0m\u001b[0;34m:\u001b[0m\u001b[0;34m\u001b[0m\u001b[0;34m\u001b[0m\u001b[0m\n",
            "\u001b[0;32m/usr/local/lib/python3.11/dist-packages/torch/utils/data/dataset.py\u001b[0m in \u001b[0;36m<listcomp>\u001b[0;34m(.0)\u001b[0m\n\u001b[1;32m    418\u001b[0m             \u001b[0;32mreturn\u001b[0m \u001b[0mself\u001b[0m\u001b[0;34m.\u001b[0m\u001b[0mdataset\u001b[0m\u001b[0;34m.\u001b[0m\u001b[0m__getitems__\u001b[0m\u001b[0;34m(\u001b[0m\u001b[0;34m[\u001b[0m\u001b[0mself\u001b[0m\u001b[0;34m.\u001b[0m\u001b[0mindices\u001b[0m\u001b[0;34m[\u001b[0m\u001b[0midx\u001b[0m\u001b[0;34m]\u001b[0m \u001b[0;32mfor\u001b[0m \u001b[0midx\u001b[0m \u001b[0;32min\u001b[0m \u001b[0mindices\u001b[0m\u001b[0;34m]\u001b[0m\u001b[0;34m)\u001b[0m  \u001b[0;31m# type: ignore[attr-defined]\u001b[0m\u001b[0;34m\u001b[0m\u001b[0;34m\u001b[0m\u001b[0m\n\u001b[1;32m    419\u001b[0m         \u001b[0;32melse\u001b[0m\u001b[0;34m:\u001b[0m\u001b[0;34m\u001b[0m\u001b[0;34m\u001b[0m\u001b[0m\n\u001b[0;32m--> 420\u001b[0;31m             \u001b[0;32mreturn\u001b[0m \u001b[0;34m[\u001b[0m\u001b[0mself\u001b[0m\u001b[0;34m.\u001b[0m\u001b[0mdataset\u001b[0m\u001b[0;34m[\u001b[0m\u001b[0mself\u001b[0m\u001b[0;34m.\u001b[0m\u001b[0mindices\u001b[0m\u001b[0;34m[\u001b[0m\u001b[0midx\u001b[0m\u001b[0;34m]\u001b[0m\u001b[0;34m]\u001b[0m \u001b[0;32mfor\u001b[0m \u001b[0midx\u001b[0m \u001b[0;32min\u001b[0m \u001b[0mindices\u001b[0m\u001b[0;34m]\u001b[0m\u001b[0;34m\u001b[0m\u001b[0;34m\u001b[0m\u001b[0m\n\u001b[0m\u001b[1;32m    421\u001b[0m \u001b[0;34m\u001b[0m\u001b[0m\n\u001b[1;32m    422\u001b[0m     \u001b[0;32mdef\u001b[0m \u001b[0m__len__\u001b[0m\u001b[0;34m(\u001b[0m\u001b[0mself\u001b[0m\u001b[0;34m)\u001b[0m\u001b[0;34m:\u001b[0m\u001b[0;34m\u001b[0m\u001b[0;34m\u001b[0m\u001b[0m\n",
            "\u001b[0;32m/usr/local/lib/python3.11/dist-packages/torchvision/datasets/folder.py\u001b[0m in \u001b[0;36m__getitem__\u001b[0;34m(self, index)\u001b[0m\n\u001b[1;32m    243\u001b[0m         \"\"\"\n\u001b[1;32m    244\u001b[0m         \u001b[0mpath\u001b[0m\u001b[0;34m,\u001b[0m \u001b[0mtarget\u001b[0m \u001b[0;34m=\u001b[0m \u001b[0mself\u001b[0m\u001b[0;34m.\u001b[0m\u001b[0msamples\u001b[0m\u001b[0;34m[\u001b[0m\u001b[0mindex\u001b[0m\u001b[0;34m]\u001b[0m\u001b[0;34m\u001b[0m\u001b[0;34m\u001b[0m\u001b[0m\n\u001b[0;32m--> 245\u001b[0;31m         \u001b[0msample\u001b[0m \u001b[0;34m=\u001b[0m \u001b[0mself\u001b[0m\u001b[0;34m.\u001b[0m\u001b[0mloader\u001b[0m\u001b[0;34m(\u001b[0m\u001b[0mpath\u001b[0m\u001b[0;34m)\u001b[0m\u001b[0;34m\u001b[0m\u001b[0;34m\u001b[0m\u001b[0m\n\u001b[0m\u001b[1;32m    246\u001b[0m         \u001b[0;32mif\u001b[0m \u001b[0mself\u001b[0m\u001b[0;34m.\u001b[0m\u001b[0mtransform\u001b[0m \u001b[0;32mis\u001b[0m \u001b[0;32mnot\u001b[0m \u001b[0;32mNone\u001b[0m\u001b[0;34m:\u001b[0m\u001b[0;34m\u001b[0m\u001b[0;34m\u001b[0m\u001b[0m\n\u001b[1;32m    247\u001b[0m             \u001b[0msample\u001b[0m \u001b[0;34m=\u001b[0m \u001b[0mself\u001b[0m\u001b[0;34m.\u001b[0m\u001b[0mtransform\u001b[0m\u001b[0;34m(\u001b[0m\u001b[0msample\u001b[0m\u001b[0;34m)\u001b[0m\u001b[0;34m\u001b[0m\u001b[0;34m\u001b[0m\u001b[0m\n",
            "\u001b[0;32m/usr/local/lib/python3.11/dist-packages/torchvision/datasets/folder.py\u001b[0m in \u001b[0;36mdefault_loader\u001b[0;34m(path)\u001b[0m\n\u001b[1;32m    282\u001b[0m         \u001b[0;32mreturn\u001b[0m \u001b[0maccimage_loader\u001b[0m\u001b[0;34m(\u001b[0m\u001b[0mpath\u001b[0m\u001b[0;34m)\u001b[0m\u001b[0;34m\u001b[0m\u001b[0;34m\u001b[0m\u001b[0m\n\u001b[1;32m    283\u001b[0m     \u001b[0;32melse\u001b[0m\u001b[0;34m:\u001b[0m\u001b[0;34m\u001b[0m\u001b[0;34m\u001b[0m\u001b[0m\n\u001b[0;32m--> 284\u001b[0;31m         \u001b[0;32mreturn\u001b[0m \u001b[0mpil_loader\u001b[0m\u001b[0;34m(\u001b[0m\u001b[0mpath\u001b[0m\u001b[0;34m)\u001b[0m\u001b[0;34m\u001b[0m\u001b[0;34m\u001b[0m\u001b[0m\n\u001b[0m\u001b[1;32m    285\u001b[0m \u001b[0;34m\u001b[0m\u001b[0m\n\u001b[1;32m    286\u001b[0m \u001b[0;34m\u001b[0m\u001b[0m\n",
            "\u001b[0;32m/usr/local/lib/python3.11/dist-packages/torchvision/datasets/folder.py\u001b[0m in \u001b[0;36mpil_loader\u001b[0;34m(path)\u001b[0m\n\u001b[1;32m    261\u001b[0m     \u001b[0;31m# open path as file to avoid ResourceWarning (https://github.com/python-pillow/Pillow/issues/835)\u001b[0m\u001b[0;34m\u001b[0m\u001b[0;34m\u001b[0m\u001b[0m\n\u001b[1;32m    262\u001b[0m     \u001b[0;32mwith\u001b[0m \u001b[0mopen\u001b[0m\u001b[0;34m(\u001b[0m\u001b[0mpath\u001b[0m\u001b[0;34m,\u001b[0m \u001b[0;34m\"rb\"\u001b[0m\u001b[0;34m)\u001b[0m \u001b[0;32mas\u001b[0m \u001b[0mf\u001b[0m\u001b[0;34m:\u001b[0m\u001b[0;34m\u001b[0m\u001b[0;34m\u001b[0m\u001b[0m\n\u001b[0;32m--> 263\u001b[0;31m         \u001b[0mimg\u001b[0m \u001b[0;34m=\u001b[0m \u001b[0mImage\u001b[0m\u001b[0;34m.\u001b[0m\u001b[0mopen\u001b[0m\u001b[0;34m(\u001b[0m\u001b[0mf\u001b[0m\u001b[0;34m)\u001b[0m\u001b[0;34m\u001b[0m\u001b[0;34m\u001b[0m\u001b[0m\n\u001b[0m\u001b[1;32m    264\u001b[0m         \u001b[0;32mreturn\u001b[0m \u001b[0mimg\u001b[0m\u001b[0;34m.\u001b[0m\u001b[0mconvert\u001b[0m\u001b[0;34m(\u001b[0m\u001b[0;34m\"RGB\"\u001b[0m\u001b[0;34m)\u001b[0m\u001b[0;34m\u001b[0m\u001b[0;34m\u001b[0m\u001b[0m\n\u001b[1;32m    265\u001b[0m \u001b[0;34m\u001b[0m\u001b[0m\n",
            "\u001b[0;32m/usr/local/lib/python3.11/dist-packages/PIL/Image.py\u001b[0m in \u001b[0;36mopen\u001b[0;34m(fp, mode, formats)\u001b[0m\n\u001b[1;32m   3514\u001b[0m         \u001b[0mexclusive_fp\u001b[0m \u001b[0;34m=\u001b[0m \u001b[0;32mTrue\u001b[0m\u001b[0;34m\u001b[0m\u001b[0;34m\u001b[0m\u001b[0m\n\u001b[1;32m   3515\u001b[0m \u001b[0;34m\u001b[0m\u001b[0m\n\u001b[0;32m-> 3516\u001b[0;31m     \u001b[0mprefix\u001b[0m \u001b[0;34m=\u001b[0m \u001b[0mfp\u001b[0m\u001b[0;34m.\u001b[0m\u001b[0mread\u001b[0m\u001b[0;34m(\u001b[0m\u001b[0;36m16\u001b[0m\u001b[0;34m)\u001b[0m\u001b[0;34m\u001b[0m\u001b[0;34m\u001b[0m\u001b[0m\n\u001b[0m\u001b[1;32m   3517\u001b[0m \u001b[0;34m\u001b[0m\u001b[0m\n\u001b[1;32m   3518\u001b[0m     \u001b[0mpreinit\u001b[0m\u001b[0;34m(\u001b[0m\u001b[0;34m)\u001b[0m\u001b[0;34m\u001b[0m\u001b[0;34m\u001b[0m\u001b[0m\n",
            "\u001b[0;31mKeyboardInterrupt\u001b[0m: "
          ]
        }
      ]
    },
    {
      "cell_type": "code",
      "source": [
        "plt.plot(range(1, epochs+1), train_acc_list, label='Train Accuracy')\n",
        "plt.plot(range(1, epochs+1), test_acc_list, label='Test Accuracy')\n",
        "plt.xlabel(\"Epoch\")\n",
        "plt.ylabel(\"Accuracy\")\n",
        "plt.title(\"Training vs Test Accuracy\")\n",
        "plt.legend()\n",
        "plt.grid(True)\n",
        "plt.show()\n"
      ],
      "metadata": {
        "id": "3VYjNY4LVX8m"
      },
      "execution_count": null,
      "outputs": []
    }
  ]
}